{
 "cells": [
  {
   "cell_type": "code",
   "execution_count": 43,
   "metadata": {},
   "outputs": [],
   "source": [
    "import cv2\n",
    "import requests\n",
    "\n",
    "image_path = \"data/synthetic_faces.jpg\"\n",
    "#image_path = \"data/synthetic_faces_2.png\"\n",
    "#image_path = \"data/synthetic_faces_3.jpg\"\n",
    "\n",
    "subscription_key = \"9402fb780e0d4698a701867352841eb2\"\n",
    "face_api_url = 'https://northeurope.api.cognitive.microsoft.com/face/v1.0/detect'\n",
    "headers = {'Ocp-Apim-Subscription-Key': subscription_key,\n",
    "           'Content-Type': 'application/octet-stream'}\n",
    "params = {\n",
    "    'returnFaceId': 'false',\n",
    "    'returnFaceLandmarks': 'false',\n",
    "    'returnFaceAttributes': 'emotion'}"
   ]
  },
  {
   "cell_type": "code",
   "execution_count": 44,
   "metadata": {},
   "outputs": [],
   "source": [
    "img = cv2.imread(image_path, cv2.IMREAD_COLOR)\n",
    "img_data = cv2.imencode('.jpeg', img)[1].tostring()\n",
    "response = requests.post(face_api_url, params=params, headers=headers, data=img_data)\n",
    "faces = response.json()"
   ]
  },
  {
   "cell_type": "code",
   "execution_count": 45,
   "metadata": {},
   "outputs": [],
   "source": [
    "face_count = 0\n",
    "face_loc = []\n",
    "emotions = []\n",
    "em_arr = [0, 0, 0, 0, 0, 0, 0, 0]"
   ]
  },
  {
   "cell_type": "code",
   "execution_count": 46,
   "metadata": {},
   "outputs": [],
   "source": [
    "for face in faces:\n",
    "    face_count += 1\n",
    "    fa = face[\"faceAttributes\"]\n",
    "    face_loc.append(tuple(list(face['faceRectangle'].values())))\n",
    "    emotions.append(max(fa['emotion'].keys(), key=lambda k: fa['emotion'][k]))\n",
    "    for j in range(0, 8):\n",
    "        em_arr[j] += list(fa['emotion'].values())[j]\n",
    "\n",
    "for j in range(0, 8):\n",
    "    em_arr[j] = em_arr[j] / face_count\n",
    "\n",
    "happy_emo = em_arr[4] + em_arr[7]\n",
    "sad_emo = em_arr[0] + em_arr[1] + em_arr[2] + em_arr[3] + em_arr[6]\n",
    "\n",
    "for (bottom, left, top, right), emo in zip(face_loc, emotions):\n",
    "    top += bottom\n",
    "    right += left\n",
    "    cv2.rectangle(img, (int(right), int(bottom)), (int(left), int(top)), (255, 0, 0), 2)\n",
    "    \n",
    "    font = cv2.FONT_HERSHEY_DUPLEX\n",
    "    cv2.rectangle(img, (right, bottom - 35),(left, bottom), (255, 0, 0), cv2.FILLED)\n",
    "    cv2.putText(img, emo, (left + 6, bottom - 10), font, 0.63, (255, 255, 255), 1)"
   ]
  },
  {
   "cell_type": "code",
   "execution_count": 48,
   "metadata": {},
   "outputs": [],
   "source": [
    "cv2.imshow('image',img)\n",
    "cv2.waitKey(0)\n",
    "cv2.destroyAllWindows()"
   ]
  }
 ],
 "metadata": {
  "kernelspec": {
   "display_name": "Python 3",
   "language": "python",
   "name": "python3"
  },
  "language_info": {
   "codemirror_mode": {
    "name": "ipython",
    "version": 3
   },
   "file_extension": ".py",
   "mimetype": "text/x-python",
   "name": "python",
   "nbconvert_exporter": "python",
   "pygments_lexer": "ipython3",
   "version": "3.7.0"
  }
 },
 "nbformat": 4,
 "nbformat_minor": 2
}
